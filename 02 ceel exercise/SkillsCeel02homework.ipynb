{
 "cells": [
  {
   "cell_type": "markdown",
   "id": "ab930fb2",
   "metadata": {},
   "source": [
    "# Lambda calculus\n",
    "\n",
    "The most obvious place where we encounter lambda expressions in Python is with their 'anonymous functions', so called because you do not have to name these functions. For example, the following is an anonymous function that doubles its input:"
   ]
  },
  {
   "cell_type": "code",
   "execution_count": null,
   "id": "1d8653f6",
   "metadata": {
    "scrolled": false
   },
   "outputs": [],
   "source": [
    "lambda x: x*2"
   ]
  },
  {
   "cell_type": "markdown",
   "id": "674e8225",
   "metadata": {},
   "source": [
    "The defining of the above function corresponds with the 'lambda abstraction rule' of lambda calculus. We have given this function no input, so we get no output either. Furthermore, since the function is anonymous, we cannot reference its name and invoke it later. Instead, we should immediately supply the lambda expression with some input:"
   ]
  },
  {
   "cell_type": "code",
   "execution_count": null,
   "id": "ed8cebc9",
   "metadata": {},
   "outputs": [],
   "source": [
    "(lambda x: x*2)(6)"
   ]
  },
  {
   "cell_type": "markdown",
   "id": "0fa9bb16",
   "metadata": {},
   "source": [
    "Python will then produce the output of this function applied to the input (corresponding to the 'application rule'). We do not need to limit ourselves to one parameter either, as this exponential growth formula shows:"
   ]
  },
  {
   "cell_type": "code",
   "execution_count": null,
   "id": "0c03aa8d",
   "metadata": {},
   "outputs": [],
   "source": [
    "(lambda x, g, t: x*g**t)(2,3,3)"
   ]
  },
  {
   "cell_type": "markdown",
   "id": "51e16998",
   "metadata": {},
   "source": [
    "we actually *can* assign a variable name to a lambda expression if we want, in which case it is just an alternative syntax for defining a function. The following two are identical functions:"
   ]
  },
  {
   "cell_type": "code",
   "execution_count": null,
   "id": "267834b5",
   "metadata": {},
   "outputs": [],
   "source": [
    "def double_a(x):\n",
    "    return x*2\n",
    "\n",
    "double_b = lambda x: x*2\n",
    "\n",
    "double_b(4)"
   ]
  },
  {
   "cell_type": "markdown",
   "id": "48976e54",
   "metadata": {},
   "source": [
    "In general, the 'normal' way is preferred. A great way to use lambda expressions is to have a regular function (that wants some argument *n*) **return** a lambda expression that involves *n*. Think of the regular function as a template for producing a family of lambda expressions depending on *n*\n",
    "\n",
    "### Exercise 1\n",
    "Define a function with at least 1 parameter that returns a lambda expression with also at least 1 parameter and uses the argument of the function. Show, with a few examples, what the function does for different inputs for the function (and the lambda expression)."
   ]
  },
  {
   "cell_type": "code",
   "execution_count": 4,
   "id": "e3f7f9b1",
   "metadata": {},
   "outputs": [],
   "source": [
    "def lambda_define(n):\n",
    "    return lambda x: x + n\n"
   ]
  },
  {
   "cell_type": "code",
   "execution_count": 5,
   "id": "a5bccf2f",
   "metadata": {},
   "outputs": [
    {
     "name": "stdout",
     "output_type": "stream",
     "text": [
      "15\n"
     ]
    }
   ],
   "source": [
    "lambda_1 = lambda_define(10)\n",
    "result_1 = lambda_2(5)\n",
    "print(result_1) "
   ]
  },
  {
   "cell_type": "code",
   "execution_count": 6,
   "id": "06c487d4",
   "metadata": {},
   "outputs": [
    {
     "name": "stdout",
     "output_type": "stream",
     "text": [
      "10\n"
     ]
    }
   ],
   "source": [
    "lambda_2=lambda_define(5)\n",
    "result_2 = lambda_2(5)\n",
    "print(result_2) "
   ]
  },
  {
   "cell_type": "markdown",
   "id": "8c41f3c8",
   "metadata": {},
   "source": [
    "Another frequent use is for manipulating iterable data objects (like lists, dataframes, dictionaries, etc), such as with the .sort() method, or the map() and filter() functions. The map function applies an operation to every element of the data  object. For both map() and filter(), you need to wrap them with list() to actually return the mapped or filtered list; so it takes the form of *list(filter(lambda x: ..., list1))*.\n",
    "\n",
    "### Exercise 2\n",
    "Use lambda expressions and the above-mentioned functions to manipulate the data (a list of dictionaries) below as follows:\n",
    "* sort the data by country\n",
    "* return a filtered list that has only those entries whose 'name' starts with an A or a B\n",
    "* return a filtered list that has only those entries whose 'number' is not divisible by 2 or 3\n",
    "* return a list with the same values as the original, except that each 'number' entry has been doubled\n"
   ]
  },
  {
   "cell_type": "code",
   "execution_count": 7,
   "id": "7d1b8751",
   "metadata": {},
   "outputs": [],
   "source": [
    "data = [{'country': \"Ukraine\",'number': \"3\",'name': \"Derek Bolton\"},{'country': \"United States\",'number': \"3\",'name': \"Britanney Durham\"},{'country': \"China\",'number': \"7\",'name': \"Rachel Dickson\"},{'country': \"India\",'number': \"4\",'name': \"Oren Dominguez\"},{'country': \"Norway\",'number': \"5\",'name': \"Keane Dean\"},{'country': \"New Zealand\",'number': \"8\",'name': \"Tarik Coleman\"},{'country': \"South Africa\",'number': \"3\",'name': \"Uriel Greene\"},{'country': \"China\",'number': \"6\",'name': \"Minerva Shields\"},{'country': \"Norway\",'number': \"7\",'name': \"Robin Butler\"},{'country': \"Germany\",'number': \"7\",'name': \"Stacey Nixon\"},{'country': \"South Africa\",'number': \"4\",'name': \"Glenna Clark\"},{'country': \"Australia\",'number': \"7\",'name': \"Adena Smith\"},{'country': \"Italy\",'number': \"2\",'name': \"Ronan Ellis\"},{'country': \"Chile\",'number': \"1\",'name': \"Ignatius Guy\"},{'country': \"Belgium\",'number': \"8\",'name': \"Barclay Lindsey\"},{'country': \"Peru\",'number': \"2\",'name': \"Fuller Burris\"},{'country': \"Ukraine\",'number': \"2\",'name': \"Kylan Witt\"},{'country': \"United States\",'number': \"1\",'name': \"Kitra Willis\"},{'country': \"Austria\",'number': \"6\",'name': \"Indigo Dillard\"},{'country': \"Chile\",'number': \"3\",'name': \"Benedict Powell\"},{'country': \"Russian Federation\",'number': \"9\",'name': \"Duncan Ware\"},{'country': \"Peru\",'number': \"7\",'name': \"Abra Lewis\"},{'country': \"China\",'number': \"5\",'name': \"Callie Cole\"},{'country': \"United States\",'number': \"0\",'name': \"Cedric Gates\"},{'country': \"Ukraine\",'number': \"7\",'name': \"Malcolm Cox\"},{'country': \"Brazil\",'number': \"6\",'name': \"Connor Potts\"},{'country': \"Sweden\",'number': \"7\",'name': \"Lyle Nguyen\"},{'country': \"United States\",'number': \"3\",'name': \"Rudyard Barrett\"},{'country': \"Costa Rica\",'number': \"2\",'name': \"Judah Brock\"},{'country': \"South Korea\",'number': \"2\",'name': \"Lucius Snider\"},{'country': \"China\",'number': \"1\",'name': \"Cassady Mcdaniel\"},{'country': \"Singapore\",'number': \"2\",'name': \"Allegra Baird\"},{'country': \"Philippines\",'number': \"4\",'name': \"Omar Burgess\"},{'country': \"Turkey\",'number': \"7\",'name': \"Kenyon Rosa\"},{'country': \"Poland\",'number': \"6\",'name': \"Yen Sargent\"},{'country': \"China\",'number': \"3\",'name': \"Rashad Grimes\"},{'country': \"Spain\",'number': \"7\",'name': \"Tamekah Gutierrez\"},{'country': \"Ukraine\",'number': \"3\",'name': \"Liberty Mathis\"},{'country': \"Mexico\",'number': \"3\",'name': \"Rylee Sharpe\"},{'country': \"Mexico\",'number': \"3\",'name': \"Brynn Hinton\"},{'country': \"Sweden\",'number': \"2\",'name': \"Quinn Berg\"},{'country': \"Philippines\",'number': \"9\",'name': \"Simone Tanner\"},{'country': \"Ireland\",'number': \"2\",'name': \"Simon Giles\"},{'country': \"United Kingdom\",'number': \"10\",'name': \"Zenia Coffey\"},{'country': \"Mexico\",'number': \"2\",'name': \"Yael Glass\"},{'country': \"Colombia\",'number': \"5\",'name': \"Inga Russell\"},{'country': \"United Kingdom\",'number': \"1\",'name': \"Brendan Pearson\"},{'country': \"Austria\",'number': \"3\",'name': \"Shafira Parks\"},{'country': \"India\",'number': \"9\",'name': \"Dante Charles\"},{'country': \"Sweden\",'number': \"8\",'name': \"Kylee Good\"},{'country': \"Canada\",'number': \"1\",'name': \"September Bryan\"},{'country': \"Costa Rica\",'number': \"5\",'name': \"Hakeem Flowers\"},{'country': \"Peru\",'number': \"0\",'name': \"Ross Moss\"},{'country': \"Spain\",'number': \"8\",'name': \"Bo Hardy\"},{'country': \"Austria\",'number': \"2\",'name': \"Davis Cardenas\"},{'country': \"Ireland\",'number': \"2\",'name': \"Lane Chandler\"},{'country': \"Ukraine\",'number': \"3\",'name': \"Mohammad Holder\"},{'country': \"Vietnam\",'number': \"8\",'name': \"Jonas Bryan\"},{'country': \"Costa Rica\",'number': \"0\",'name': \"Eve Rivas\"},{'country': \"Australia\",'number': \"4\",'name': \"Elton Collins\"},{'country': \"Norway\",'number': \"8\",'name': \"Cain Fields\"},{'country': \"Vietnam\",'number': \"0\",'name': \"Iliana Daniels\"},{'country': \"Mexico\",'number': \"7\",'name': \"Rajah Robles\"},{'country': \"Australia\",'number': \"3\",'name': \"Charity Conner\"},{'country': \"Chile\",'number': \"5\",'name': \"Kay Parsons\"},{'country': \"Ireland\",'number': \"4\",'name': \"Rachel Howell\"},{'country': \"Singapore\",'number': \"3\",'name': \"Walter Forbes\"},{'country': \"Colombia\",'number': \"1\",'name': \"Gray Hayden\"},{'country': \"Netherlands\",'number': \"9\",'name': \"Ivana Compton\"},{'country': \"South Korea\",'number': \"8\",'name': \"Jamal Kelly\"},{'country': \"Pakistan\",'number': \"0\",'name': \"Robert Cunningham\"},{'country': \"Spain\",'number': \"4\",'name': \"Ignatius Newman\"},{'country': \"Canada\",'number': \"8\",'name': \"Gisela Glenn\"},{'country': \"Vietnam\",'number': \"1\",'name': \"Eliana Nicholson\"},{'country': \"Ukraine\",'number': \"4\",'name': \"Christen James\"},{'country': \"France\",'number': \"4\",'name': \"Devin Spears\"},{'country': \"Costa Rica\",'number': \"3\",'name': \"Phelan Hodges\"},{'country': \"Chile\",'number': \"4\",'name': \"Stewart Coffey\"},{'country': \"Singapore\",'number': \"6\",'name': \"Kasper Justice\"},{'country': \"Italy\",'number': \"7\",'name': \"Xanthus Wilkerson\"},{'country': \"Italy\",'number': \"6\",'name': \"Debra Melendez\"},{'country': \"Germany\",'number': \"6\",'name': \"Galvin Morrison\"},{'country': \"Norway\",'number': \"10\",'name': \"Britanney Daniels\"},{'country': \"Italy\",'number': \"8\",'name': \"Steel Cantu\"},{'country': \"Mexico\",'number': \"7\",'name': \"Graham Ewing\"},{'country': \"China\",'number': \"3\",'name': \"Maia Dunn\"},{'country': \"Australia\",'number': \"3\",'name': \"Violet Thornton\"},{'country': \"Canada\",'number': \"5\",'name': \"Cleo Cardenas\"},{'country': \"United States\",'number': \"8\",'name': \"Castor Bowen\"},{'country': \"Australia\",'number': \"8\",'name': \"Wyatt Carey\"},{'country': \"Philippines\",'number': \"5\",'name': \"Paul Padilla\"},{'country': \"Costa Rica\",'number': \"8\",'name': \"Germane Welch\"},{'country': \"South Korea\",'number': \"4\",'name': \"Zephr Deleon\"},{'country': \"Russian Federation\",'number': \"9\",'name': \"Lionel Armstrong\"},{'country': \"Brazil\",'number': \"6\",'name': \"Eleanor Solomon\"},{'country': \"Nigeria\",'number': \"7\",'name': \"Rachel Woods\"},{'country': \"Indonesia\",'number': \"9\",'name': \"Philip Taylor\"},{'country': \"Brazil\",'number': \"7\",'name': \"Lilah Shelton\"},{'country': \"United Kingdom\",'number': \"3\",'name': \"Gillian Harrington\"},{'country': \"Mexico\",'number': \"3\",'name': \"Odessa Sutton\"}]\n"
   ]
  },
  {
   "cell_type": "code",
   "execution_count": 8,
   "id": "c9b26419",
   "metadata": {},
   "outputs": [
    {
     "name": "stdout",
     "output_type": "stream",
     "text": [
      "sort the data by country: [{'country': 'Australia', 'number': '7', 'name': 'Adena Smith'}, {'country': 'Australia', 'number': '4', 'name': 'Elton Collins'}, {'country': 'Australia', 'number': '3', 'name': 'Charity Conner'}, {'country': 'Australia', 'number': '3', 'name': 'Violet Thornton'}, {'country': 'Australia', 'number': '8', 'name': 'Wyatt Carey'}, {'country': 'Austria', 'number': '6', 'name': 'Indigo Dillard'}, {'country': 'Austria', 'number': '3', 'name': 'Shafira Parks'}, {'country': 'Austria', 'number': '2', 'name': 'Davis Cardenas'}, {'country': 'Belgium', 'number': '8', 'name': 'Barclay Lindsey'}, {'country': 'Brazil', 'number': '6', 'name': 'Connor Potts'}, {'country': 'Brazil', 'number': '6', 'name': 'Eleanor Solomon'}, {'country': 'Brazil', 'number': '7', 'name': 'Lilah Shelton'}, {'country': 'Canada', 'number': '1', 'name': 'September Bryan'}, {'country': 'Canada', 'number': '8', 'name': 'Gisela Glenn'}, {'country': 'Canada', 'number': '5', 'name': 'Cleo Cardenas'}, {'country': 'Chile', 'number': '1', 'name': 'Ignatius Guy'}, {'country': 'Chile', 'number': '3', 'name': 'Benedict Powell'}, {'country': 'Chile', 'number': '5', 'name': 'Kay Parsons'}, {'country': 'Chile', 'number': '4', 'name': 'Stewart Coffey'}, {'country': 'China', 'number': '7', 'name': 'Rachel Dickson'}, {'country': 'China', 'number': '6', 'name': 'Minerva Shields'}, {'country': 'China', 'number': '5', 'name': 'Callie Cole'}, {'country': 'China', 'number': '1', 'name': 'Cassady Mcdaniel'}, {'country': 'China', 'number': '3', 'name': 'Rashad Grimes'}, {'country': 'China', 'number': '3', 'name': 'Maia Dunn'}, {'country': 'Colombia', 'number': '5', 'name': 'Inga Russell'}, {'country': 'Colombia', 'number': '1', 'name': 'Gray Hayden'}, {'country': 'Costa Rica', 'number': '2', 'name': 'Judah Brock'}, {'country': 'Costa Rica', 'number': '5', 'name': 'Hakeem Flowers'}, {'country': 'Costa Rica', 'number': '0', 'name': 'Eve Rivas'}, {'country': 'Costa Rica', 'number': '3', 'name': 'Phelan Hodges'}, {'country': 'Costa Rica', 'number': '8', 'name': 'Germane Welch'}, {'country': 'France', 'number': '4', 'name': 'Devin Spears'}, {'country': 'Germany', 'number': '7', 'name': 'Stacey Nixon'}, {'country': 'Germany', 'number': '6', 'name': 'Galvin Morrison'}, {'country': 'India', 'number': '4', 'name': 'Oren Dominguez'}, {'country': 'India', 'number': '9', 'name': 'Dante Charles'}, {'country': 'Indonesia', 'number': '9', 'name': 'Philip Taylor'}, {'country': 'Ireland', 'number': '2', 'name': 'Simon Giles'}, {'country': 'Ireland', 'number': '2', 'name': 'Lane Chandler'}, {'country': 'Ireland', 'number': '4', 'name': 'Rachel Howell'}, {'country': 'Italy', 'number': '2', 'name': 'Ronan Ellis'}, {'country': 'Italy', 'number': '7', 'name': 'Xanthus Wilkerson'}, {'country': 'Italy', 'number': '6', 'name': 'Debra Melendez'}, {'country': 'Italy', 'number': '8', 'name': 'Steel Cantu'}, {'country': 'Mexico', 'number': '3', 'name': 'Rylee Sharpe'}, {'country': 'Mexico', 'number': '3', 'name': 'Brynn Hinton'}, {'country': 'Mexico', 'number': '2', 'name': 'Yael Glass'}, {'country': 'Mexico', 'number': '7', 'name': 'Rajah Robles'}, {'country': 'Mexico', 'number': '7', 'name': 'Graham Ewing'}, {'country': 'Mexico', 'number': '3', 'name': 'Odessa Sutton'}, {'country': 'Netherlands', 'number': '9', 'name': 'Ivana Compton'}, {'country': 'New Zealand', 'number': '8', 'name': 'Tarik Coleman'}, {'country': 'Nigeria', 'number': '7', 'name': 'Rachel Woods'}, {'country': 'Norway', 'number': '5', 'name': 'Keane Dean'}, {'country': 'Norway', 'number': '7', 'name': 'Robin Butler'}, {'country': 'Norway', 'number': '8', 'name': 'Cain Fields'}, {'country': 'Norway', 'number': '10', 'name': 'Britanney Daniels'}, {'country': 'Pakistan', 'number': '0', 'name': 'Robert Cunningham'}, {'country': 'Peru', 'number': '2', 'name': 'Fuller Burris'}, {'country': 'Peru', 'number': '7', 'name': 'Abra Lewis'}, {'country': 'Peru', 'number': '0', 'name': 'Ross Moss'}, {'country': 'Philippines', 'number': '4', 'name': 'Omar Burgess'}, {'country': 'Philippines', 'number': '9', 'name': 'Simone Tanner'}, {'country': 'Philippines', 'number': '5', 'name': 'Paul Padilla'}, {'country': 'Poland', 'number': '6', 'name': 'Yen Sargent'}, {'country': 'Russian Federation', 'number': '9', 'name': 'Duncan Ware'}, {'country': 'Russian Federation', 'number': '9', 'name': 'Lionel Armstrong'}, {'country': 'Singapore', 'number': '2', 'name': 'Allegra Baird'}, {'country': 'Singapore', 'number': '3', 'name': 'Walter Forbes'}, {'country': 'Singapore', 'number': '6', 'name': 'Kasper Justice'}, {'country': 'South Africa', 'number': '3', 'name': 'Uriel Greene'}, {'country': 'South Africa', 'number': '4', 'name': 'Glenna Clark'}, {'country': 'South Korea', 'number': '2', 'name': 'Lucius Snider'}, {'country': 'South Korea', 'number': '8', 'name': 'Jamal Kelly'}, {'country': 'South Korea', 'number': '4', 'name': 'Zephr Deleon'}, {'country': 'Spain', 'number': '7', 'name': 'Tamekah Gutierrez'}, {'country': 'Spain', 'number': '8', 'name': 'Bo Hardy'}, {'country': 'Spain', 'number': '4', 'name': 'Ignatius Newman'}, {'country': 'Sweden', 'number': '7', 'name': 'Lyle Nguyen'}, {'country': 'Sweden', 'number': '2', 'name': 'Quinn Berg'}, {'country': 'Sweden', 'number': '8', 'name': 'Kylee Good'}, {'country': 'Turkey', 'number': '7', 'name': 'Kenyon Rosa'}, {'country': 'Ukraine', 'number': '3', 'name': 'Derek Bolton'}, {'country': 'Ukraine', 'number': '2', 'name': 'Kylan Witt'}, {'country': 'Ukraine', 'number': '7', 'name': 'Malcolm Cox'}, {'country': 'Ukraine', 'number': '3', 'name': 'Liberty Mathis'}, {'country': 'Ukraine', 'number': '3', 'name': 'Mohammad Holder'}, {'country': 'Ukraine', 'number': '4', 'name': 'Christen James'}, {'country': 'United Kingdom', 'number': '10', 'name': 'Zenia Coffey'}, {'country': 'United Kingdom', 'number': '1', 'name': 'Brendan Pearson'}, {'country': 'United Kingdom', 'number': '3', 'name': 'Gillian Harrington'}, {'country': 'United States', 'number': '3', 'name': 'Britanney Durham'}, {'country': 'United States', 'number': '1', 'name': 'Kitra Willis'}, {'country': 'United States', 'number': '0', 'name': 'Cedric Gates'}, {'country': 'United States', 'number': '3', 'name': 'Rudyard Barrett'}, {'country': 'United States', 'number': '8', 'name': 'Castor Bowen'}, {'country': 'Vietnam', 'number': '8', 'name': 'Jonas Bryan'}, {'country': 'Vietnam', 'number': '0', 'name': 'Iliana Daniels'}, {'country': 'Vietnam', 'number': '1', 'name': 'Eliana Nicholson'}]\n"
     ]
    }
   ],
   "source": [
    "sorted_data = sorted(data, key=lambda x: x['country'])\n",
    "print(\"sort the data by country:\", sorted_data)"
   ]
  },
  {
   "cell_type": "code",
   "execution_count": 9,
   "id": "55e97776",
   "metadata": {},
   "outputs": [
    {
     "name": "stdout",
     "output_type": "stream",
     "text": [
      "sort data with a or b: [{'country': 'United States', 'number': '3', 'name': 'Britanney Durham'}, {'country': 'Australia', 'number': '7', 'name': 'Adena Smith'}, {'country': 'Belgium', 'number': '8', 'name': 'Barclay Lindsey'}, {'country': 'Chile', 'number': '3', 'name': 'Benedict Powell'}, {'country': 'Peru', 'number': '7', 'name': 'Abra Lewis'}, {'country': 'Singapore', 'number': '2', 'name': 'Allegra Baird'}, {'country': 'Mexico', 'number': '3', 'name': 'Brynn Hinton'}, {'country': 'United Kingdom', 'number': '1', 'name': 'Brendan Pearson'}, {'country': 'Spain', 'number': '8', 'name': 'Bo Hardy'}, {'country': 'Norway', 'number': '10', 'name': 'Britanney Daniels'}]\n"
     ]
    }
   ],
   "source": [
    "filtered_name_starting_with_a_or_b = list(filter(lambda x: x['name'][0] in ['A', 'B'], data))\n",
    "print(\"sort data with a or b:\", filtered_name_starting_with_a_or_b)"
   ]
  },
  {
   "cell_type": "code",
   "execution_count": 10,
   "id": "c1597415",
   "metadata": {},
   "outputs": [
    {
     "name": "stdout",
     "output_type": "stream",
     "text": [
      "numbers not divisible by 2 or 3: [{'country': 'China', 'number': '7', 'name': 'Rachel Dickson'}, {'country': 'Norway', 'number': '5', 'name': 'Keane Dean'}, {'country': 'Norway', 'number': '7', 'name': 'Robin Butler'}, {'country': 'Germany', 'number': '7', 'name': 'Stacey Nixon'}, {'country': 'Australia', 'number': '7', 'name': 'Adena Smith'}, {'country': 'Chile', 'number': '1', 'name': 'Ignatius Guy'}, {'country': 'United States', 'number': '1', 'name': 'Kitra Willis'}, {'country': 'Peru', 'number': '7', 'name': 'Abra Lewis'}, {'country': 'China', 'number': '5', 'name': 'Callie Cole'}, {'country': 'Ukraine', 'number': '7', 'name': 'Malcolm Cox'}, {'country': 'Sweden', 'number': '7', 'name': 'Lyle Nguyen'}, {'country': 'China', 'number': '1', 'name': 'Cassady Mcdaniel'}, {'country': 'Turkey', 'number': '7', 'name': 'Kenyon Rosa'}, {'country': 'Spain', 'number': '7', 'name': 'Tamekah Gutierrez'}, {'country': 'Colombia', 'number': '5', 'name': 'Inga Russell'}, {'country': 'United Kingdom', 'number': '1', 'name': 'Brendan Pearson'}, {'country': 'Canada', 'number': '1', 'name': 'September Bryan'}, {'country': 'Costa Rica', 'number': '5', 'name': 'Hakeem Flowers'}, {'country': 'Mexico', 'number': '7', 'name': 'Rajah Robles'}, {'country': 'Chile', 'number': '5', 'name': 'Kay Parsons'}, {'country': 'Colombia', 'number': '1', 'name': 'Gray Hayden'}, {'country': 'Vietnam', 'number': '1', 'name': 'Eliana Nicholson'}, {'country': 'Italy', 'number': '7', 'name': 'Xanthus Wilkerson'}, {'country': 'Mexico', 'number': '7', 'name': 'Graham Ewing'}, {'country': 'Canada', 'number': '5', 'name': 'Cleo Cardenas'}, {'country': 'Philippines', 'number': '5', 'name': 'Paul Padilla'}, {'country': 'Nigeria', 'number': '7', 'name': 'Rachel Woods'}, {'country': 'Brazil', 'number': '7', 'name': 'Lilah Shelton'}]\n"
     ]
    }
   ],
   "source": [
    "filtered_not_divisible_by_2_or_3 = list(filter(lambda x: int(x['number']) % 2 != 0 and int(x['number']) % 3 != 0, data))\n",
    "print(\"numbers not divisible by 2 or 3:\", filtered_not_divisible_by_2_or_3)"
   ]
  },
  {
   "cell_type": "code",
   "execution_count": 11,
   "id": "ea83fb00",
   "metadata": {},
   "outputs": [
    {
     "name": "stdout",
     "output_type": "stream",
     "text": [
      "double numbers: [{'name': 'Derek Bolton', 'country': 'Ukraine', 'number': 6}, {'name': 'Britanney Durham', 'country': 'United States', 'number': 6}, {'name': 'Rachel Dickson', 'country': 'China', 'number': 14}, {'name': 'Oren Dominguez', 'country': 'India', 'number': 8}, {'name': 'Keane Dean', 'country': 'Norway', 'number': 10}, {'name': 'Tarik Coleman', 'country': 'New Zealand', 'number': 16}, {'name': 'Uriel Greene', 'country': 'South Africa', 'number': 6}, {'name': 'Minerva Shields', 'country': 'China', 'number': 12}, {'name': 'Robin Butler', 'country': 'Norway', 'number': 14}, {'name': 'Stacey Nixon', 'country': 'Germany', 'number': 14}, {'name': 'Glenna Clark', 'country': 'South Africa', 'number': 8}, {'name': 'Adena Smith', 'country': 'Australia', 'number': 14}, {'name': 'Ronan Ellis', 'country': 'Italy', 'number': 4}, {'name': 'Ignatius Guy', 'country': 'Chile', 'number': 2}, {'name': 'Barclay Lindsey', 'country': 'Belgium', 'number': 16}, {'name': 'Fuller Burris', 'country': 'Peru', 'number': 4}, {'name': 'Kylan Witt', 'country': 'Ukraine', 'number': 4}, {'name': 'Kitra Willis', 'country': 'United States', 'number': 2}, {'name': 'Indigo Dillard', 'country': 'Austria', 'number': 12}, {'name': 'Benedict Powell', 'country': 'Chile', 'number': 6}, {'name': 'Duncan Ware', 'country': 'Russian Federation', 'number': 18}, {'name': 'Abra Lewis', 'country': 'Peru', 'number': 14}, {'name': 'Callie Cole', 'country': 'China', 'number': 10}, {'name': 'Cedric Gates', 'country': 'United States', 'number': 0}, {'name': 'Malcolm Cox', 'country': 'Ukraine', 'number': 14}, {'name': 'Connor Potts', 'country': 'Brazil', 'number': 12}, {'name': 'Lyle Nguyen', 'country': 'Sweden', 'number': 14}, {'name': 'Rudyard Barrett', 'country': 'United States', 'number': 6}, {'name': 'Judah Brock', 'country': 'Costa Rica', 'number': 4}, {'name': 'Lucius Snider', 'country': 'South Korea', 'number': 4}, {'name': 'Cassady Mcdaniel', 'country': 'China', 'number': 2}, {'name': 'Allegra Baird', 'country': 'Singapore', 'number': 4}, {'name': 'Omar Burgess', 'country': 'Philippines', 'number': 8}, {'name': 'Kenyon Rosa', 'country': 'Turkey', 'number': 14}, {'name': 'Yen Sargent', 'country': 'Poland', 'number': 12}, {'name': 'Rashad Grimes', 'country': 'China', 'number': 6}, {'name': 'Tamekah Gutierrez', 'country': 'Spain', 'number': 14}, {'name': 'Liberty Mathis', 'country': 'Ukraine', 'number': 6}, {'name': 'Rylee Sharpe', 'country': 'Mexico', 'number': 6}, {'name': 'Brynn Hinton', 'country': 'Mexico', 'number': 6}, {'name': 'Quinn Berg', 'country': 'Sweden', 'number': 4}, {'name': 'Simone Tanner', 'country': 'Philippines', 'number': 18}, {'name': 'Simon Giles', 'country': 'Ireland', 'number': 4}, {'name': 'Zenia Coffey', 'country': 'United Kingdom', 'number': 20}, {'name': 'Yael Glass', 'country': 'Mexico', 'number': 4}, {'name': 'Inga Russell', 'country': 'Colombia', 'number': 10}, {'name': 'Brendan Pearson', 'country': 'United Kingdom', 'number': 2}, {'name': 'Shafira Parks', 'country': 'Austria', 'number': 6}, {'name': 'Dante Charles', 'country': 'India', 'number': 18}, {'name': 'Kylee Good', 'country': 'Sweden', 'number': 16}, {'name': 'September Bryan', 'country': 'Canada', 'number': 2}, {'name': 'Hakeem Flowers', 'country': 'Costa Rica', 'number': 10}, {'name': 'Ross Moss', 'country': 'Peru', 'number': 0}, {'name': 'Bo Hardy', 'country': 'Spain', 'number': 16}, {'name': 'Davis Cardenas', 'country': 'Austria', 'number': 4}, {'name': 'Lane Chandler', 'country': 'Ireland', 'number': 4}, {'name': 'Mohammad Holder', 'country': 'Ukraine', 'number': 6}, {'name': 'Jonas Bryan', 'country': 'Vietnam', 'number': 16}, {'name': 'Eve Rivas', 'country': 'Costa Rica', 'number': 0}, {'name': 'Elton Collins', 'country': 'Australia', 'number': 8}, {'name': 'Cain Fields', 'country': 'Norway', 'number': 16}, {'name': 'Iliana Daniels', 'country': 'Vietnam', 'number': 0}, {'name': 'Rajah Robles', 'country': 'Mexico', 'number': 14}, {'name': 'Charity Conner', 'country': 'Australia', 'number': 6}, {'name': 'Kay Parsons', 'country': 'Chile', 'number': 10}, {'name': 'Rachel Howell', 'country': 'Ireland', 'number': 8}, {'name': 'Walter Forbes', 'country': 'Singapore', 'number': 6}, {'name': 'Gray Hayden', 'country': 'Colombia', 'number': 2}, {'name': 'Ivana Compton', 'country': 'Netherlands', 'number': 18}, {'name': 'Jamal Kelly', 'country': 'South Korea', 'number': 16}, {'name': 'Robert Cunningham', 'country': 'Pakistan', 'number': 0}, {'name': 'Ignatius Newman', 'country': 'Spain', 'number': 8}, {'name': 'Gisela Glenn', 'country': 'Canada', 'number': 16}, {'name': 'Eliana Nicholson', 'country': 'Vietnam', 'number': 2}, {'name': 'Christen James', 'country': 'Ukraine', 'number': 8}, {'name': 'Devin Spears', 'country': 'France', 'number': 8}, {'name': 'Phelan Hodges', 'country': 'Costa Rica', 'number': 6}, {'name': 'Stewart Coffey', 'country': 'Chile', 'number': 8}, {'name': 'Kasper Justice', 'country': 'Singapore', 'number': 12}, {'name': 'Xanthus Wilkerson', 'country': 'Italy', 'number': 14}, {'name': 'Debra Melendez', 'country': 'Italy', 'number': 12}, {'name': 'Galvin Morrison', 'country': 'Germany', 'number': 12}, {'name': 'Britanney Daniels', 'country': 'Norway', 'number': 20}, {'name': 'Steel Cantu', 'country': 'Italy', 'number': 16}, {'name': 'Graham Ewing', 'country': 'Mexico', 'number': 14}, {'name': 'Maia Dunn', 'country': 'China', 'number': 6}, {'name': 'Violet Thornton', 'country': 'Australia', 'number': 6}, {'name': 'Cleo Cardenas', 'country': 'Canada', 'number': 10}, {'name': 'Castor Bowen', 'country': 'United States', 'number': 16}, {'name': 'Wyatt Carey', 'country': 'Australia', 'number': 16}, {'name': 'Paul Padilla', 'country': 'Philippines', 'number': 10}, {'name': 'Germane Welch', 'country': 'Costa Rica', 'number': 16}, {'name': 'Zephr Deleon', 'country': 'South Korea', 'number': 8}, {'name': 'Lionel Armstrong', 'country': 'Russian Federation', 'number': 18}, {'name': 'Eleanor Solomon', 'country': 'Brazil', 'number': 12}, {'name': 'Rachel Woods', 'country': 'Nigeria', 'number': 14}, {'name': 'Philip Taylor', 'country': 'Indonesia', 'number': 18}, {'name': 'Lilah Shelton', 'country': 'Brazil', 'number': 14}, {'name': 'Gillian Harrington', 'country': 'United Kingdom', 'number': 6}, {'name': 'Odessa Sutton', 'country': 'Mexico', 'number': 6}]\n"
     ]
    }
   ],
   "source": [
    "doubled_numbers = list(map(lambda x: {'name': x['name'], 'country': x['country'], 'number': int(x['number']) * 2}, data))\n",
    "print(\"double numbers:\", doubled_numbers)"
   ]
  },
  {
   "cell_type": "markdown",
   "id": "e38c201d",
   "metadata": {},
   "source": [
    "# Recursive functions\n",
    "### For any recursive function you write in this section, make clear (with comments) what your base cases and your recursive cases are.\n",
    "Remember the example of the factorial function from the lecture. I will reproduce the Python code here:"
   ]
  },
  {
   "cell_type": "code",
   "execution_count": null,
   "id": "fe8e5c07",
   "metadata": {},
   "outputs": [],
   "source": [
    "def factorial(x):\n",
    "    if x == 0: # base case\n",
    "        return 1\n",
    "    else: # recursive case\n",
    "        return (x * factorial(x-1))\n",
    "\n",
    "\n",
    "num = 6\n",
    "print(\"The factorial of\", num, \"is\", factorial(num))"
   ]
  },
  {
   "cell_type": "markdown",
   "id": "fec13b6f",
   "metadata": {},
   "source": [
    "The other example in the lecture was concerned with Fibonacci numbers.\n",
    "### Exercise 1\n",
    "#### a\n",
    "Implement this Fibonacci function **recursively** in Python:"
   ]
  },
  {
   "cell_type": "code",
   "execution_count": 14,
   "id": "5aa9d82d",
   "metadata": {},
   "outputs": [
    {
     "name": "stdout",
     "output_type": "stream",
     "text": [
      "should be a positive integer.\n",
      "0\n",
      "1\n",
      "1\n",
      "2\n"
     ]
    }
   ],
   "source": [
    "def fibonacci(n):\n",
    "    if n <= 0:\n",
    "        return \"should be a positive integer.\"\n",
    "    elif n == 1:\n",
    "        return 0\n",
    "    elif n == 2:\n",
    "        return 1\n",
    "    else:\n",
    "        return fibonacci(n - 1) + fibonacci(n - 2)\n",
    "\n",
    "for i in range(5):\n",
    "    print(fibonacci(i))"
   ]
  },
  {
   "cell_type": "markdown",
   "id": "a89ff1b4",
   "metadata": {},
   "source": [
    "#### b\n",
    "Test your function on some higher numbers. What do you notice? What do you think is causing this?"
   ]
  },
  {
   "cell_type": "markdown",
   "id": "02d6b0c3",
   "metadata": {},
   "source": []
  },
  {
   "cell_type": "markdown",
   "id": "0ccdd531",
   "metadata": {},
   "source": [
    "### Exercise 2\n",
    "Write a recursive function that takes a list of integers as input and returns the maximum integer stored in the list. Thinking recursively, the maximum is either the first value in the list or the maximum of the rest of the list, whichever is larger. If the list only has 1 integer, then its maximum is this single value, naturally."
   ]
  },
  {
   "cell_type": "code",
   "execution_count": 17,
   "id": "461dcfd1",
   "metadata": {},
   "outputs": [
    {
     "name": "stdout",
     "output_type": "stream",
     "text": [
      "24\n"
     ]
    }
   ],
   "source": [
    "def _maximum(lst):\n",
    "    if len(lst) == 1:\n",
    "        return lst[0]\n",
    "    else:\n",
    "        return max(lst[0], _maximum(lst[1:]))\n",
    "\n",
    "numbers = [5, 24, 2, 10, 3, 7]\n",
    "maximum = _maximum(numbers)\n",
    "print(maximum)"
   ]
  },
  {
   "cell_type": "markdown",
   "id": "f7d5ea73",
   "metadata": {},
   "source": [
    "### Exercise 3\n",
    "Write a recursive function **letterCount** that takes a string and a character as input, and returns how many times the character occurs in the string. For example, it should have the following outputs:\n",
    "* **letterCount**(\"Julian\", 'i') = 1\n",
    "* **letterCount**(\"Ceel\", 'e') = 2\n",
    "* **letterCount**(\"Joris\", 'a') = 0"
   ]
  },
  {
   "cell_type": "code",
   "execution_count": 18,
   "id": "cc3944a1",
   "metadata": {},
   "outputs": [
    {
     "name": "stdout",
     "output_type": "stream",
     "text": [
      "letterCount('Julian', 'i') = 1\n",
      "letterCount('Ceel', 'e') = 2\n",
      "letterCount('Joris', 'a') = 0\n"
     ]
    }
   ],
   "source": [
    "def letterCount(s, char):\n",
    "    if not s:\n",
    "        return 0\n",
    "    return (s[0] == char) + letterCount(s[1:], char)\n",
    "\n",
    "result1 = letterCount(\"Julian\", 'i')\n",
    "result2 = letterCount(\"Ceel\", 'e')\n",
    "result3 = letterCount(\"Joris\", 'a')\n",
    "\n",
    "print(f\"letterCount('Julian', 'i') = {result1}\")\n",
    "print(f\"letterCount('Ceel', 'e') = {result2}\")\n",
    "print(f\"letterCount('Joris', 'a') = {result3}\")"
   ]
  },
  {
   "cell_type": "markdown",
   "id": "bcdb69fe",
   "metadata": {},
   "source": [
    "# Turing Machines\n",
    "### The exercises for this section are made outside of this notebook. To hand in, either add a separate file with the code to your personal GitHub map, or copy-paste it into the box at the bottom of the notebook. Make sure to clearly label which code belongs to which exercise!\n",
    "Go to turingmachine.io and open the 'binary increment' example at the top. Play around with it and try to understand what is happening.\n",
    "\n",
    "### Exercise 1\n",
    "Make the exercises for the binary increment that are printed below the code on the web page. I will reproduce them here for your convenience:\n",
    "\n",
    "exercises\n",
    "\n",
    "\t# • Modify the machine to always halt on the leftmost digit\n",
    "\t#   (regardless of the number's length).\n",
    "\t#   Hint: add a state between carry and done.\n",
    "\n",
    "\t# • Make a machine that adds 2 instead of 1.\n",
    "\t#   Hint: 2 is '10' in binary, so the last digit is unaffected.\n",
    "\t#   Alternative hint: chain together two copies of the machine from\n",
    "\t#   the first exercise (renaming the states of the second copy).\n",
    "\n",
    "\t# • Make a machine to subtract 1.\n",
    "\t#   To simplify things, assume the input is always greater than 0.\n",
    "\n",
    "### Exercise 2\n",
    "Choose an example at the top (different from 'binary increment') that has complementery exercises and do those.\n",
    "\n"
   ]
  },
  {
   "cell_type": "raw",
   "id": "24bd3b0d",
   "metadata": {},
   "source": [
    "paste Turing Machine code here...\n",
    "\n",
    "\n"
   ]
  }
 ],
 "metadata": {
  "kernelspec": {
   "display_name": "Python 3 (ipykernel)",
   "language": "python",
   "name": "python3"
  },
  "language_info": {
   "codemirror_mode": {
    "name": "ipython",
    "version": 3
   },
   "file_extension": ".py",
   "mimetype": "text/x-python",
   "name": "python",
   "nbconvert_exporter": "python",
   "pygments_lexer": "ipython3",
   "version": "3.11.5"
  }
 },
 "nbformat": 4,
 "nbformat_minor": 5
}
